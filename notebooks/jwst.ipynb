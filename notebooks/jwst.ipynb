{
 "cells": [
  {
   "cell_type": "markdown",
   "id": "e3a711ed-6941-4002-b641-7c420d25cfa4",
   "metadata": {},
   "source": [
    "# 韋伯太空望遠鏡的觀測資料取得及視覺化"
   ]
  },
  {
   "cell_type": "markdown",
   "id": "d4a910e1-3b88-4b5f-b291-62e0557e1cde",
   "metadata": {
    "tags": []
   },
   "source": [
    "## 1. 韋伯太空望遠鏡簡介\n",
    "[韋伯太空望遠鏡(James Webb Space Telescope)](https://webbtelescope.org/)，英文簡稱JWST或Webb，是由美國太空總署、歐洲太空總署和加拿大太空總署所合作的紅外線太空望遠鏡，被視為哈伯太空望遠鏡的繼任者。它的主要科學目的是研究恆星和星系的形成與演化、宇宙的早期歷史，以及系外行星的特性。韋伯太空望遠鏡上有四個主要的觀測儀器，分別是：Near Infrared Camera(NIRCam)、Near Infrared Spectrograph(NIRSpec)、Mid-Infrared Instrument(MIRI)，以及Fine Guidance Sensor and Near Infrared Imager and Slitless Spectrograph(FGS/NIRISS)。"
   ]
  },
  {
   "cell_type": "markdown",
   "id": "c880ca48-3d1a-4c50-a09f-d24f6154b7b0",
   "metadata": {
    "tags": []
   },
   "source": [
    "## 2. 如何用Astroquery取得韋伯太空望遠鏡的觀測資料？"
   ]
  },
  {
   "cell_type": "markdown",
   "id": "814ceac5-6857-4ed2-849d-4b79623abb70",
   "metadata": {
    "tags": []
   },
   "source": [
    "### 什麼是MAST(Barbara A. Mikulski Archive for Space Telescopes)？\n",
    "[MAST(Barbara A. Mikulski Archive for Space Telescopes)](https://archive.stsci.edu/)是一個天文觀測資料中心，專門存儲和管理多個太空及地面天文觀測計畫的資料，包含韋伯太空望遠鏡和哈伯太空望遠鏡等。"
   ]
  },
  {
   "cell_type": "markdown",
   "id": "acfe0687-5e27-4f5d-853f-c594bfae6ce0",
   "metadata": {
    "tags": []
   },
   "source": [
    "### 安裝Astroquery\n",
    "[Astroquery](https://astroquery.readthedocs.io/en/latest/)套件提供多個模組，能連接不同的天文資料庫服務以取得相關資料，其中的[astroquery.mast](https://astroquery.readthedocs.io/en/latest/mast/mast.html)這個模組，是用於取得MAST(Barbara A. Mikulski Archive for Space Telescopes)提供的資料。"
   ]
  },
  {
   "cell_type": "code",
   "execution_count": null,
   "id": "444df325-da17-4ec8-9edd-0c76d805f61c",
   "metadata": {
    "tags": []
   },
   "outputs": [],
   "source": [
    "!pip install --pre astroquery"
   ]
  },
  {
   "cell_type": "markdown",
   "id": "c02c1043-df16-43d6-afa2-a70a83c62aff",
   "metadata": {
    "tags": []
   },
   "source": [
    "### astroquery.mast模組有哪些資料查詢及下載功能？\n",
    "在astroquery.mast模組中，[Observations.query_object()](https://astroquery.readthedocs.io/en/latest/api/astroquery.mast.ObservationsClass.html#astroquery.mast.ObservationsClass.query_object)和[Observations.query_region()](https://astroquery.readthedocs.io/en/latest/api/astroquery.mast.ObservationsClass.html#astroquery.mast.ObservationsClass.query_region)可分別針對星體名稱和座標位置，查詢出相符的觀測清單。若想要設定更多篩選條件，例如特定的望遠鏡和儀器，則需使用[Observations.query_criteria()](https://astroquery.readthedocs.io/en/latest/api/astroquery.mast.ObservationsClass.html#astroquery.mast.ObservationsClass.query_criteria)。查詢到觀測清單後，可用[Observations.get_product_list()](https://astroquery.readthedocs.io/en/latest/api/astroquery.mast.ObservationsClass.html#astroquery.mast.ObservationsClass.get_product_list)取得清單中某項觀測的資料檔案列表，然後再用[Observations.download_products()](https://astroquery.readthedocs.io/en/latest/api/astroquery.mast.ObservationsClass.html#astroquery.mast.ObservationsClass.download_products)下載這些資料檔案。"
   ]
  },
  {
   "cell_type": "markdown",
   "id": "845159e7-6d73-42c9-92e8-b6207d3b67e0",
   "metadata": {},
   "source": [
    "### 範例1：取得疏散星團NGC 3324的觀測資料"
   ]
  },
  {
   "cell_type": "code",
   "execution_count": 1,
   "id": "80df0199",
   "metadata": {
    "tags": []
   },
   "outputs": [
    {
     "data": {
      "text/html": [
       "<div><i>Table masked=True length=10</i>\n",
       "<table id=\"table140227000441472\" class=\"table-striped table-bordered table-condensed\">\n",
       "<thead><tr><th>dataproduct_type</th><th>calib_level</th><th>obs_collection</th><th>obs_id</th><th>target_name</th><th>s_ra</th><th>s_dec</th><th>t_min</th><th>t_max</th><th>t_exptime</th><th>wavelength_region</th><th>filters</th><th>em_min</th><th>em_max</th><th>target_classification</th><th>obs_title</th><th>t_obs_release</th><th>instrument_name</th><th>proposal_pi</th><th>proposal_id</th><th>proposal_type</th><th>project</th><th>sequence_number</th><th>provenance_name</th><th>s_region</th><th>jpegURL</th><th>dataURL</th><th>dataRights</th><th>mtFlag</th><th>srcDen</th><th>intentType</th><th>obsid</th><th>objID</th></tr></thead>\n",
       "<thead><tr><th>str5</th><th>int64</th><th>str4</th><th>str36</th><th>str8</th><th>float64</th><th>float64</th><th>float64</th><th>float64</th><th>float64</th><th>str8</th><th>str11</th><th>float64</th><th>float64</th><th>str1</th><th>str32</th><th>float64</th><th>str12</th><th>str21</th><th>str4</th><th>str3</th><th>str4</th><th>int64</th><th>str7</th><th>str119</th><th>str62</th><th>str63</th><th>str6</th><th>bool</th><th>float64</th><th>str7</th><th>str8</th><th>str9</th></tr></thead>\n",
       "<tr><td>image</td><td>3</td><td>JWST</td><td>jw02731-o002_t017_miri_f1800w</td><td>NGC-3324</td><td>159.2129125</td><td>-58.6200527777778</td><td>59741.12639981297</td><td>59741.55679824074</td><td>5994.08</td><td>Infrared</td><td>F1800W</td><td>16500.0</td><td>19500.0</td><td>--</td><td>JWST Early Release Observation 5</td><td>59773.625</td><td>MIRI/IMAGE</td><td>Pontoppidan, Klaus M.</td><td>2731</td><td>COM</td><td>JWST</td><td>--</td><td>CALJWST</td><td>POLYGON 159.236917732 -58.561845706 159.298777339 -58.578139176 159.206154648 -58.673551981 159.144169299 -58.657213978</td><td>mast:JWST/product/jw02731-o002_t017_miri_f1800w_i2d.jpg</td><td>mast:JWST/product/jw02731-o002_t017_miri_f1800w_i2d.fits</td><td>PUBLIC</td><td>False</td><td>nan</td><td>science</td><td>87602308</td><td>229568457</td></tr>\n",
       "<tr><td>image</td><td>3</td><td>JWST</td><td>jw02731-o002_t017_miri_f1130w</td><td>NGC-3324</td><td>159.2129125</td><td>-58.6200527777778</td><td>59741.05075876805</td><td>59741.48343756944</td><td>6771.08</td><td>Infrared</td><td>F1130W</td><td>10950.0</td><td>11650.0</td><td>--</td><td>JWST Early Release Observation 5</td><td>59773.625</td><td>MIRI/IMAGE</td><td>Pontoppidan, Klaus M.</td><td>2731</td><td>COM</td><td>JWST</td><td>--</td><td>CALJWST</td><td>POLYGON 159.236861665 -58.56183967 159.298735061 -58.578118878 159.206193557 -58.673553034 159.144194267 -58.657229323</td><td>mast:JWST/product/jw02731-o002_t017_miri_f1130w_i2d.jpg</td><td>mast:JWST/product/jw02731-o002_t017_miri_f1130w_i2d.fits</td><td>PUBLIC</td><td>False</td><td>nan</td><td>science</td><td>87602309</td><td>229568468</td></tr>\n",
       "<tr><td>image</td><td>3</td><td>JWST</td><td>jw02731-o002_t017_miri_f1280w</td><td>NGC-3324</td><td>159.2129125</td><td>-58.6200527777778</td><td>59741.1012500287</td><td>59741.53421826389</td><td>6993.12</td><td>Infrared</td><td>F1280W</td><td>11600.0</td><td>14000.0</td><td>--</td><td>JWST Early Release Observation 5</td><td>59773.625</td><td>MIRI/IMAGE</td><td>Pontoppidan, Klaus M.</td><td>2731</td><td>COM</td><td>JWST</td><td>--</td><td>CALJWST</td><td>POLYGON 159.236920339 -58.56186242 159.298776612 -58.578159364 159.206134104 -58.673566964 159.144152126 -58.65722548</td><td>mast:JWST/product/jw02731-o002_t017_miri_f1280w_i2d.jpg</td><td>mast:JWST/product/jw02731-o002_t017_miri_f1280w_i2d.fits</td><td>PUBLIC</td><td>False</td><td>nan</td><td>science</td><td>87602311</td><td>229568490</td></tr>\n",
       "<tr><td>image</td><td>3</td><td>JWST</td><td>jw02731-o002_t017_miri_f770w</td><td>NGC-3324</td><td>159.2129125</td><td>-58.6200527777778</td><td>59741.07603651111</td><td>59741.50874717593</td><td>6771.08</td><td>Infrared</td><td>F770W</td><td>6600.0</td><td>8800.0</td><td>--</td><td>JWST Early Release Observation 5</td><td>59773.625</td><td>MIRI/IMAGE</td><td>Pontoppidan, Klaus M.</td><td>2731</td><td>COM</td><td>JWST</td><td>--</td><td>CALJWST</td><td>POLYGON 159.236970566 -58.561872982 159.298823705 -58.578173183 159.206162637 -58.673575907 159.144183826 -58.65723116</td><td>mast:JWST/product/jw02731-o002_t017_miri_f770w_i2d.jpg</td><td>mast:JWST/product/jw02731-o002_t017_miri_f770w_i2d.fits</td><td>PUBLIC</td><td>False</td><td>nan</td><td>science</td><td>87602313</td><td>229568515</td></tr>\n",
       "<tr><td>image</td><td>3</td><td>JWST</td><td>jw02731-o001_t017_nircam_clear-f187n</td><td>NGC-3324</td><td>159.2129125</td><td>-58.6200527777778</td><td>59733.37547690324</td><td>59733.60158137731</td><td>46382.88</td><td>Infrared</td><td>F187N</td><td>1863.0</td><td>1884.0</td><td>--</td><td>JWST Early Release Observation 5</td><td>59773.625</td><td>NIRCAM/IMAGE</td><td>Pontoppidan, Klaus M.</td><td>2731</td><td>COM</td><td>JWST</td><td>--</td><td>CALJWST</td><td>POLYGON 159.169505038 -58.551495156 159.308252801 -58.56769533 159.256279143 -58.688936441 159.117073566 -58.672679978</td><td>mast:JWST/product/jw02731-o001_t017_nircam_clear-f187n_i2d.jpg</td><td>mast:JWST/product/jw02731-o001_t017_nircam_clear-f187n_i2d.fits</td><td>PUBLIC</td><td>False</td><td>nan</td><td>science</td><td>87602689</td><td>230045466</td></tr>\n",
       "<tr><td>image</td><td>3</td><td>JWST</td><td>jw02731-o001_t017_nircam_clear-f335m</td><td>NGC-3324</td><td>159.2129125</td><td>-58.6200527777778</td><td>59733.40269180185</td><td>59733.621340625</td><td>6442.08</td><td>Infrared</td><td>F335M</td><td>3177.0</td><td>3538.0</td><td>--</td><td>JWST Early Release Observation 5</td><td>59773.625</td><td>NIRCAM/IMAGE</td><td>Pontoppidan, Klaus M.</td><td>2731</td><td>COM</td><td>JWST</td><td>--</td><td>CALJWST</td><td>POLYGON 159.171187539 -58.551812098 159.307689522 -58.56811298 159.254919567 -58.688449875 159.11797164 -58.672092777</td><td>mast:JWST/product/jw02731-o001_t017_nircam_clear-f335m_i2d.jpg</td><td>mast:JWST/product/jw02731-o001_t017_nircam_clear-f335m_i2d.fits</td><td>PUBLIC</td><td>False</td><td>nan</td><td>science</td><td>87602572</td><td>230045506</td></tr>\n",
       "<tr><td>image</td><td>3</td><td>JWST</td><td>jw02731-o001_t017_nircam_clear-f200w</td><td>NGC-3324</td><td>159.2129125</td><td>-58.6200527777778</td><td>59733.42220214907</td><td>59733.64072652778</td><td>25768.32</td><td>Infrared</td><td>F200W</td><td>1755.0</td><td>2226.0</td><td>--</td><td>JWST Early Release Observation 5</td><td>59773.625</td><td>NIRCAM/IMAGE</td><td>Pontoppidan, Klaus M.</td><td>2731</td><td>COM</td><td>JWST</td><td>--</td><td>CALJWST</td><td>POLYGON 159.169046061 -58.551429214 159.308265598 -58.567498894 159.25680021 -58.688949632 159.117119953 -58.672824019</td><td>mast:JWST/product/jw02731-o001_t017_nircam_clear-f200w_i2d.jpg</td><td>mast:JWST/product/jw02731-o001_t017_nircam_clear-f200w_i2d.fits</td><td>PUBLIC</td><td>False</td><td>nan</td><td>science</td><td>87602979</td><td>230045547</td></tr>\n",
       "<tr><td>image</td><td>3</td><td>JWST</td><td>jw02731-o001_t017_nircam_clear-f090w</td><td>NGC-3324</td><td>159.2129125</td><td>-58.6200527777778</td><td>59733.40269180185</td><td>59733.621340625</td><td>25768.32</td><td>Infrared</td><td>F090W</td><td>795.0</td><td>1004.9999999999999</td><td>--</td><td>JWST Early Release Observation 5</td><td>59773.625</td><td>NIRCAM/IMAGE</td><td>Pontoppidan, Klaus M.</td><td>2731</td><td>COM</td><td>JWST</td><td>--</td><td>CALJWST</td><td>POLYGON 159.17147277 -58.551716022 159.308388419 -58.568546521 159.253955911 -58.689116605 159.116593584 -58.672227952</td><td>mast:JWST/product/jw02731-o001_t017_nircam_clear-f090w_i2d.jpg</td><td>mast:JWST/product/jw02731-o001_t017_nircam_clear-f090w_i2d.fits</td><td>PUBLIC</td><td>False</td><td>nan</td><td>science</td><td>87603378</td><td>230045587</td></tr>\n",
       "<tr><td>image</td><td>3</td><td>JWST</td><td>jw02731-o001_t017_nircam_clear-f444w</td><td>NGC-3324</td><td>159.2129125</td><td>-58.6200527777778</td><td>59733.42220214907</td><td>59733.64072652778</td><td>6442.08</td><td>Infrared</td><td>F444W</td><td>3880.0</td><td>4986.0</td><td>--</td><td>JWST Early Release Observation 5</td><td>59773.625</td><td>NIRCAM/IMAGE</td><td>Pontoppidan, Klaus M.</td><td>2731</td><td>COM</td><td>JWST</td><td>--</td><td>CALJWST</td><td>POLYGON 159.171430875 -58.551847533 159.307674468 -58.56820915 159.254636297 -58.68847628 159.117948141 -58.67205827</td><td>mast:JWST/product/jw02731-o001_t017_nircam_clear-f444w_i2d.jpg</td><td>mast:JWST/product/jw02731-o001_t017_nircam_clear-f444w_i2d.fits</td><td>PUBLIC</td><td>False</td><td>nan</td><td>science</td><td>87602573</td><td>230045624</td></tr>\n",
       "<tr><td>image</td><td>3</td><td>JWST</td><td>jw02731-o001_t017_nircam_f444w-f470n</td><td>NGC-3324</td><td>159.2129125</td><td>-58.6200527777778</td><td>59733.37547690324</td><td>59733.60158211806</td><td>11595.72</td><td>Infrared</td><td>F444W;F470N</td><td>3880.0</td><td>4986.0</td><td>--</td><td>JWST Early Release Observation 5</td><td>59773.625</td><td>NIRCAM/IMAGE</td><td>Pontoppidan, Klaus M.</td><td>2731</td><td>COM</td><td>JWST</td><td>--</td><td>CALJWST</td><td>POLYGON 159.171408783 -58.551885856 159.30765263 -58.568247244 159.254645339 -58.688446245 159.117957181 -58.672028498</td><td>mast:JWST/product/jw02731-o001_t017_nircam_f444w-f470n_i2d.jpg</td><td>mast:JWST/product/jw02731-o001_t017_nircam_f444w-f470n_i2d.fits</td><td>PUBLIC</td><td>False</td><td>nan</td><td>science</td><td>87602574</td><td>230045659</td></tr>\n",
       "</table></div>"
      ],
      "text/plain": [
       "<Table masked=True length=10>\n",
       "dataproduct_type calib_level obs_collection                obs_id                target_name     s_ra          s_dec       ... dataRights mtFlag  srcDen intentType  obsid     objID  \n",
       "      str5          int64         str4                     str36                     str8      float64        float64      ...    str6     bool  float64    str7      str8      str9  \n",
       "---------------- ----------- -------------- ------------------------------------ ----------- ----------- ----------------- ... ---------- ------ ------- ---------- -------- ---------\n",
       "           image           3           JWST        jw02731-o002_t017_miri_f1800w    NGC-3324 159.2129125 -58.6200527777778 ...     PUBLIC  False     nan    science 87602308 229568457\n",
       "           image           3           JWST        jw02731-o002_t017_miri_f1130w    NGC-3324 159.2129125 -58.6200527777778 ...     PUBLIC  False     nan    science 87602309 229568468\n",
       "           image           3           JWST        jw02731-o002_t017_miri_f1280w    NGC-3324 159.2129125 -58.6200527777778 ...     PUBLIC  False     nan    science 87602311 229568490\n",
       "           image           3           JWST         jw02731-o002_t017_miri_f770w    NGC-3324 159.2129125 -58.6200527777778 ...     PUBLIC  False     nan    science 87602313 229568515\n",
       "           image           3           JWST jw02731-o001_t017_nircam_clear-f187n    NGC-3324 159.2129125 -58.6200527777778 ...     PUBLIC  False     nan    science 87602689 230045466\n",
       "           image           3           JWST jw02731-o001_t017_nircam_clear-f335m    NGC-3324 159.2129125 -58.6200527777778 ...     PUBLIC  False     nan    science 87602572 230045506\n",
       "           image           3           JWST jw02731-o001_t017_nircam_clear-f200w    NGC-3324 159.2129125 -58.6200527777778 ...     PUBLIC  False     nan    science 87602979 230045547\n",
       "           image           3           JWST jw02731-o001_t017_nircam_clear-f090w    NGC-3324 159.2129125 -58.6200527777778 ...     PUBLIC  False     nan    science 87603378 230045587\n",
       "           image           3           JWST jw02731-o001_t017_nircam_clear-f444w    NGC-3324 159.2129125 -58.6200527777778 ...     PUBLIC  False     nan    science 87602573 230045624\n",
       "           image           3           JWST jw02731-o001_t017_nircam_f444w-f470n    NGC-3324 159.2129125 -58.6200527777778 ...     PUBLIC  False     nan    science 87602574 230045659"
      ]
     },
     "execution_count": 1,
     "metadata": {},
     "output_type": "execute_result"
    }
   ],
   "source": [
    "from astroquery.mast import Observations\n",
    "\n",
    "# 用query_criteria()取得觀測清單\n",
    "obs_table = Observations.query_criteria(target_name='NGC-3324', obs_collection='JWST')\n",
    "obs_table"
   ]
  },
  {
   "cell_type": "code",
   "execution_count": 2,
   "id": "42e04653",
   "metadata": {
    "tags": []
   },
   "outputs": [
    {
     "data": {
      "text/html": [
       "<div><i>Table masked=True length=5036</i>\n",
       "<table id=\"table140228055716368\" class=\"table-striped table-bordered table-condensed\">\n",
       "<thead><tr><th>obsID</th><th>obs_collection</th><th>dataproduct_type</th><th>obs_id</th><th>description</th><th>type</th><th>dataURI</th><th>productType</th><th>productGroupDescription</th><th>productSubGroupDescription</th><th>productDocumentationURL</th><th>project</th><th>prvversion</th><th>proposal_id</th><th>productFilename</th><th>size</th><th>parent_obsid</th><th>dataRights</th><th>calib_level</th></tr></thead>\n",
       "<thead><tr><th>str8</th><th>str4</th><th>str5</th><th>str36</th><th>str64</th><th>str1</th><th>str69</th><th>str9</th><th>str28</th><th>str11</th><th>str1</th><th>str7</th><th>str5</th><th>str4</th><th>str51</th><th>int64</th><th>str8</th><th>str6</th><th>int64</th></tr></thead>\n",
       "<tr><td>87602574</td><td>JWST</td><td>image</td><td>jw02731-o001_t017_nircam_f444w-f470n</td><td>target   (L3) : segmentation map</td><td>D</td><td>mast:JWST/product/jw02731-o001_t017_nircam_f444w-f470n_segm.fits</td><td>AUXILIARY</td><td>Minimum Recommended Products</td><td>SEGM</td><td>--</td><td>CALJWST</td><td>1.9.6</td><td>2731</td><td>jw02731-o001_t017_nircam_f444w-f470n_segm.fits</td><td>117512640</td><td>87602574</td><td>PUBLIC</td><td>3</td></tr>\n",
       "<tr><td>87602574</td><td>JWST</td><td>image</td><td>jw02731-o001_t017_nircam_f444w-f470n</td><td>source/target (L3) : association generator</td><td>D</td><td>mast:JWST/product/jw02731-o001_20230404t154755_image3_00001_asn.json</td><td>INFO</td><td>Minimum Recommended Products</td><td>ASN</td><td>--</td><td>CALJWST</td><td>1.9.6</td><td>2731</td><td>jw02731-o001_20230404t154755_image3_00001_asn.json</td><td>12245</td><td>87602574</td><td>PUBLIC</td><td>3</td></tr>\n",
       "<tr><td>87602574</td><td>JWST</td><td>image</td><td>jw02731-o001_t017_nircam_f444w-f470n</td><td>source/target (L3) : association pool</td><td>D</td><td>mast:JWST/product/jw02731_20230404t154755_pool.csv</td><td>INFO</td><td>Minimum Recommended Products</td><td>POOL</td><td>--</td><td>CALJWST</td><td>1.9.6</td><td>2731</td><td>jw02731_20230404t154755_pool.csv</td><td>301796</td><td>87602574</td><td>PUBLIC</td><td>3</td></tr>\n",
       "<tr><td>87602574</td><td>JWST</td><td>image</td><td>jw02731-o001_t017_nircam_f444w-f470n</td><td>Preview-Full</td><td>D</td><td>mast:JWST/product/jw02731-o001_t017_nircam_f444w-f470n_i2d.jpg</td><td>PREVIEW</td><td>--</td><td>--</td><td>--</td><td>CALJWST</td><td>1.9.6</td><td>2731</td><td>jw02731-o001_t017_nircam_f444w-f470n_i2d.jpg</td><td>2381001</td><td>87602574</td><td>PUBLIC</td><td>3</td></tr>\n",
       "<tr><td>87602574</td><td>JWST</td><td>image</td><td>jw02731-o001_t017_nircam_f444w-f470n</td><td>target   (L3) : source catalog</td><td>D</td><td>mast:JWST/product/jw02731-o001_t017_nircam_f444w-f470n_cat.ecsv</td><td>SCIENCE</td><td>Minimum Recommended Products</td><td>CAT</td><td>--</td><td>CALJWST</td><td>1.9.6</td><td>2731</td><td>jw02731-o001_t017_nircam_f444w-f470n_cat.ecsv</td><td>3647727</td><td>87602574</td><td>PUBLIC</td><td>3</td></tr>\n",
       "<tr><td>87602574</td><td>JWST</td><td>image</td><td>jw02731-o001_t017_nircam_f444w-f470n</td><td>exposure/target (L2b/L3): rectified 2D image</td><td>D</td><td>mast:JWST/product/jw02731-o001_t017_nircam_f444w-f470n_i2d.fits</td><td>SCIENCE</td><td>Minimum Recommended Products</td><td>I2D</td><td>--</td><td>CALJWST</td><td>1.9.6</td><td>2731</td><td>jw02731-o001_t017_nircam_f444w-f470n_i2d.fits</td><td>940006080</td><td>87602574</td><td>PUBLIC</td><td>3</td></tr>\n",
       "<tr><td>87599244</td><td>JWST</td><td>image</td><td>jw02731001001_02101_00001_nrcalong</td><td>FGS1 guide star acquisition</td><td>S</td><td>mast:JWST/product/jw02731001001_gs-acq1_2022154085548_stream.fits</td><td>AUXILIARY</td><td>--</td><td>GS-ACQ1</td><td>--</td><td>CALJWST</td><td>--</td><td>2731</td><td>jw02731001001_gs-acq1_2022154085548_stream.fits</td><td>406080</td><td>87602574</td><td>PUBLIC</td><td>1</td></tr>\n",
       "<tr><td>87599244</td><td>JWST</td><td>image</td><td>jw02731001001_02101_00001_nrcalong</td><td>FGS1 guide star acquisition</td><td>S</td><td>mast:JWST/product/jw02731001001_gs-acq1_2022154085548_uncal.fits</td><td>AUXILIARY</td><td>--</td><td>GS-ACQ1</td><td>--</td><td>CALJWST</td><td>--</td><td>2731</td><td>jw02731001001_gs-acq1_2022154085548_uncal.fits</td><td>420480</td><td>87602574</td><td>PUBLIC</td><td>1</td></tr>\n",
       "<tr><td>87599244</td><td>JWST</td><td>image</td><td>jw02731001001_02101_00001_nrcalong</td><td>FGS1 guide star acquisition</td><td>S</td><td>mast:JWST/product/jw02731001001_gs-acq1_2022154085635_stream.fits</td><td>AUXILIARY</td><td>--</td><td>GS-ACQ1</td><td>--</td><td>CALJWST</td><td>--</td><td>2731</td><td>jw02731001001_gs-acq1_2022154085635_stream.fits</td><td>406080</td><td>87602574</td><td>PUBLIC</td><td>1</td></tr>\n",
       "<tr><td>87599244</td><td>JWST</td><td>image</td><td>jw02731001001_02101_00001_nrcalong</td><td>FGS1 guide star acquisition</td><td>S</td><td>mast:JWST/product/jw02731001001_gs-acq1_2022154085635_uncal.fits</td><td>AUXILIARY</td><td>--</td><td>GS-ACQ1</td><td>--</td><td>CALJWST</td><td>--</td><td>2731</td><td>jw02731001001_gs-acq1_2022154085635_uncal.fits</td><td>420480</td><td>87602574</td><td>PUBLIC</td><td>1</td></tr>\n",
       "<tr><td>87599244</td><td>JWST</td><td>image</td><td>jw02731001001_02101_00001_nrcalong</td><td>FGS1 guide star acquisition</td><td>S</td><td>mast:JWST/product/jw02731001001_gs-acq1_2022154093525_stream.fits</td><td>AUXILIARY</td><td>--</td><td>GS-ACQ1</td><td>--</td><td>CALJWST</td><td>--</td><td>2731</td><td>jw02731001001_gs-acq1_2022154093525_stream.fits</td><td>406080</td><td>87602574</td><td>PUBLIC</td><td>1</td></tr>\n",
       "<tr><td>87599244</td><td>JWST</td><td>image</td><td>jw02731001001_02101_00001_nrcalong</td><td>FGS1 guide star acquisition</td><td>S</td><td>mast:JWST/product/jw02731001001_gs-acq1_2022154093525_uncal.fits</td><td>AUXILIARY</td><td>--</td><td>GS-ACQ1</td><td>--</td><td>CALJWST</td><td>--</td><td>2731</td><td>jw02731001001_gs-acq1_2022154093525_uncal.fits</td><td>420480</td><td>87602574</td><td>PUBLIC</td><td>1</td></tr>\n",
       "<tr><td>87599244</td><td>JWST</td><td>image</td><td>jw02731001001_02101_00001_nrcalong</td><td>FGS1 guide star acquisition</td><td>S</td><td>mast:JWST/product/jw02731001001_gs-acq1_2022154100403_stream.fits</td><td>AUXILIARY</td><td>--</td><td>GS-ACQ1</td><td>--</td><td>CALJWST</td><td>--</td><td>2731</td><td>jw02731001001_gs-acq1_2022154100403_stream.fits</td><td>406080</td><td>87602574</td><td>PUBLIC</td><td>1</td></tr>\n",
       "<tr><td>87599244</td><td>JWST</td><td>image</td><td>jw02731001001_02101_00001_nrcalong</td><td>FGS1 guide star acquisition</td><td>S</td><td>mast:JWST/product/jw02731001001_gs-acq1_2022154100403_uncal.fits</td><td>AUXILIARY</td><td>--</td><td>GS-ACQ1</td><td>--</td><td>CALJWST</td><td>--</td><td>2731</td><td>jw02731001001_gs-acq1_2022154100403_uncal.fits</td><td>420480</td><td>87602574</td><td>PUBLIC</td><td>1</td></tr>\n",
       "<tr><td>87599244</td><td>JWST</td><td>image</td><td>jw02731001001_02101_00001_nrcalong</td><td>FGS1 guide star acquisition</td><td>S</td><td>mast:JWST/product/jw02731001001_gs-acq1_2022154085548_cal.fits</td><td>AUXILIARY</td><td>--</td><td>GS-ACQ1</td><td>--</td><td>CALJWST</td><td>1.9.6</td><td>2731</td><td>jw02731001001_gs-acq1_2022154085548_cal.fits</td><td>1284480</td><td>87602574</td><td>PUBLIC</td><td>2</td></tr>\n",
       "<tr><td>87599244</td><td>JWST</td><td>image</td><td>jw02731001001_02101_00001_nrcalong</td><td>FGS1 guide star acquisition</td><td>S</td><td>mast:JWST/product/jw02731001001_gs-acq1_2022154085635_cal.fits</td><td>AUXILIARY</td><td>--</td><td>GS-ACQ1</td><td>--</td><td>CALJWST</td><td>1.9.6</td><td>2731</td><td>jw02731001001_gs-acq1_2022154085635_cal.fits</td><td>1284480</td><td>87602574</td><td>PUBLIC</td><td>2</td></tr>\n",
       "<tr><td>87599244</td><td>JWST</td><td>image</td><td>jw02731001001_02101_00001_nrcalong</td><td>FGS1 guide star acquisition</td><td>S</td><td>mast:JWST/product/jw02731001001_gs-acq1_2022154093525_cal.fits</td><td>AUXILIARY</td><td>--</td><td>GS-ACQ1</td><td>--</td><td>CALJWST</td><td>1.9.6</td><td>2731</td><td>jw02731001001_gs-acq1_2022154093525_cal.fits</td><td>1284480</td><td>87602574</td><td>PUBLIC</td><td>2</td></tr>\n",
       "<tr><td>87599244</td><td>JWST</td><td>image</td><td>jw02731001001_02101_00001_nrcalong</td><td>FGS1 guide star acquisition</td><td>S</td><td>mast:JWST/product/jw02731001001_gs-acq1_2022154100403_cal.fits</td><td>AUXILIARY</td><td>--</td><td>GS-ACQ1</td><td>--</td><td>CALJWST</td><td>1.9.6</td><td>2731</td><td>jw02731001001_gs-acq1_2022154100403_cal.fits</td><td>1284480</td><td>87602574</td><td>PUBLIC</td><td>2</td></tr>\n",
       "<tr><td>87599244</td><td>JWST</td><td>image</td><td>jw02731001001_02101_00001_nrcalong</td><td>FGS2 guide star acquisition</td><td>S</td><td>mast:JWST/product/jw02731001001_gs-acq2_2022154085550_stream.fits</td><td>AUXILIARY</td><td>--</td><td>GS-ACQ2</td><td>--</td><td>CALJWST</td><td>--</td><td>2731</td><td>jw02731001001_gs-acq2_2022154085550_stream.fits</td><td>34560</td><td>87602574</td><td>PUBLIC</td><td>1</td></tr>\n",
       "<tr><td>87599244</td><td>JWST</td><td>image</td><td>jw02731001001_02101_00001_nrcalong</td><td>FGS2 guide star acquisition</td><td>S</td><td>mast:JWST/product/jw02731001001_gs-acq2_2022154085550_uncal.fits</td><td>AUXILIARY</td><td>--</td><td>GS-ACQ2</td><td>--</td><td>CALJWST</td><td>--</td><td>2731</td><td>jw02731001001_gs-acq2_2022154085550_uncal.fits</td><td>48960</td><td>87602574</td><td>PUBLIC</td><td>1</td></tr>\n",
       "<tr><td>87599244</td><td>JWST</td><td>image</td><td>jw02731001001_02101_00001_nrcalong</td><td>FGS2 guide star acquisition</td><td>S</td><td>mast:JWST/product/jw02731001001_gs-acq2_2022154085637_stream.fits</td><td>AUXILIARY</td><td>--</td><td>GS-ACQ2</td><td>--</td><td>CALJWST</td><td>--</td><td>2731</td><td>jw02731001001_gs-acq2_2022154085637_stream.fits</td><td>34560</td><td>87602574</td><td>PUBLIC</td><td>1</td></tr>\n",
       "<tr><td>87599244</td><td>JWST</td><td>image</td><td>jw02731001001_02101_00001_nrcalong</td><td>FGS2 guide star acquisition</td><td>S</td><td>mast:JWST/product/jw02731001001_gs-acq2_2022154085637_uncal.fits</td><td>AUXILIARY</td><td>--</td><td>GS-ACQ2</td><td>--</td><td>CALJWST</td><td>--</td><td>2731</td><td>jw02731001001_gs-acq2_2022154085637_uncal.fits</td><td>48960</td><td>87602574</td><td>PUBLIC</td><td>1</td></tr>\n",
       "<tr><td>...</td><td>...</td><td>...</td><td>...</td><td>...</td><td>...</td><td>...</td><td>...</td><td>...</td><td>...</td><td>...</td><td>...</td><td>...</td><td>...</td><td>...</td><td>...</td><td>...</td><td>...</td><td>...</td></tr>\n",
       "<tr><td>87600747</td><td>JWST</td><td>image</td><td>jw02731001004_02101_00005_nrcblong</td><td>FGS guide star tracking</td><td>S</td><td>mast:JWST/product/jw02731001004_gs-track_2022154144317_cal.fits</td><td>AUXILIARY</td><td>--</td><td>GS-TRACK</td><td>--</td><td>CALJWST</td><td>1.9.6</td><td>2731</td><td>jw02731001004_gs-track_2022154144317_cal.fits</td><td>2459520</td><td>87602574</td><td>PUBLIC</td><td>2</td></tr>\n",
       "<tr><td>87600747</td><td>JWST</td><td>image</td><td>jw02731001004_02101_00005_nrcblong</td><td>FGS guide star tracking</td><td>S</td><td>mast:JWST/product/jw02731001004_gs-track_2022154144733_cal.fits</td><td>AUXILIARY</td><td>--</td><td>GS-TRACK</td><td>--</td><td>CALJWST</td><td>1.9.6</td><td>2731</td><td>jw02731001004_gs-track_2022154144733_cal.fits</td><td>2459520</td><td>87602574</td><td>PUBLIC</td><td>2</td></tr>\n",
       "<tr><td>87600747</td><td>JWST</td><td>image</td><td>jw02731001004_02101_00005_nrcblong</td><td>FGS guide star tracking</td><td>S</td><td>mast:JWST/product/jw02731001004_gs-track_2022154145145_cal.fits</td><td>AUXILIARY</td><td>--</td><td>GS-TRACK</td><td>--</td><td>CALJWST</td><td>1.9.6</td><td>2731</td><td>jw02731001004_gs-track_2022154145145_cal.fits</td><td>2459520</td><td>87602574</td><td>PUBLIC</td><td>2</td></tr>\n",
       "<tr><td>87600747</td><td>JWST</td><td>image</td><td>jw02731001004_02101_00005_nrcblong</td><td>FGS guide star tracking</td><td>S</td><td>mast:JWST/product/jw02731001004_gs-track_2022154145949_cal.fits</td><td>AUXILIARY</td><td>--</td><td>GS-TRACK</td><td>--</td><td>CALJWST</td><td>1.9.6</td><td>2731</td><td>jw02731001004_gs-track_2022154145949_cal.fits</td><td>2465280</td><td>87602574</td><td>PUBLIC</td><td>2</td></tr>\n",
       "<tr><td>87600747</td><td>JWST</td><td>image</td><td>jw02731001004_02101_00005_nrcblong</td><td>FGS guide star tracking</td><td>S</td><td>mast:JWST/product/jw02731001004_gs-track_2022154150657_cal.fits</td><td>AUXILIARY</td><td>--</td><td>GS-TRACK</td><td>--</td><td>CALJWST</td><td>1.9.6</td><td>2731</td><td>jw02731001004_gs-track_2022154150657_cal.fits</td><td>2459520</td><td>87602574</td><td>PUBLIC</td><td>2</td></tr>\n",
       "<tr><td>87600747</td><td>JWST</td><td>image</td><td>jw02731001004_02101_00005_nrcblong</td><td>FGS guide star tracking</td><td>S</td><td>mast:JWST/product/jw02731001004_gs-track_2022154151109_cal.fits</td><td>AUXILIARY</td><td>--</td><td>GS-TRACK</td><td>--</td><td>CALJWST</td><td>1.9.6</td><td>2731</td><td>jw02731001004_gs-track_2022154151109_cal.fits</td><td>2459520</td><td>87602574</td><td>PUBLIC</td><td>2</td></tr>\n",
       "<tr><td>87600747</td><td>JWST</td><td>image</td><td>jw02731001004_02101_00005_nrcblong</td><td>FGS guide star tracking</td><td>S</td><td>mast:JWST/product/jw02731001004_gs-track_2022154151528_cal.fits</td><td>AUXILIARY</td><td>--</td><td>GS-TRACK</td><td>--</td><td>CALJWST</td><td>1.9.6</td><td>2731</td><td>jw02731001004_gs-track_2022154151528_cal.fits</td><td>2465280</td><td>87602574</td><td>PUBLIC</td><td>2</td></tr>\n",
       "<tr><td>87600747</td><td>JWST</td><td>image</td><td>jw02731001004_02101_00005_nrcblong</td><td>FGS guide star tracking</td><td>S</td><td>mast:JWST/product/jw02731001004_gs-track_2022154151940_cal.fits</td><td>AUXILIARY</td><td>--</td><td>GS-TRACK</td><td>--</td><td>CALJWST</td><td>1.9.6</td><td>2731</td><td>jw02731001004_gs-track_2022154151940_cal.fits</td><td>2459520</td><td>87602574</td><td>PUBLIC</td><td>2</td></tr>\n",
       "<tr><td>87600747</td><td>JWST</td><td>image</td><td>jw02731001004_02101_00005_nrcblong</td><td>exposure (L2a): charge trap product for persistence</td><td>S</td><td>mast:JWST/product/jw02731001004_02101_00005_nrcblong_trapsfilled.fits</td><td>AUXILIARY</td><td>--</td><td>TRAPSFILLED</td><td>--</td><td>CALJWST</td><td>1.9.6</td><td>2731</td><td>jw02731001004_02101_00005_nrcblong_trapsfilled.fits</td><td>50365440</td><td>87602574</td><td>PUBLIC</td><td>2</td></tr>\n",
       "<tr><td>87600747</td><td>JWST</td><td>image</td><td>jw02731001004_02101_00005_nrcblong</td><td>source/target (L3) : association generator</td><td>S</td><td>mast:JWST/product/jw02731-o001_20230404t154755_image2_00069_asn.json</td><td>INFO</td><td>--</td><td>ASN</td><td>--</td><td>CALJWST</td><td>1.9.6</td><td>2731</td><td>jw02731-o001_20230404t154755_image2_00069_asn.json</td><td>1796</td><td>87602574</td><td>PUBLIC</td><td>2</td></tr>\n",
       "<tr><td>87600747</td><td>JWST</td><td>image</td><td>jw02731001004_02101_00005_nrcblong</td><td>source/target (L3) : association pool</td><td>S</td><td>mast:JWST/product/jw02731_20230404t154755_pool.csv</td><td>INFO</td><td>--</td><td>POOL</td><td>--</td><td>CALJWST</td><td>1.9.6</td><td>2731</td><td>jw02731_20230404t154755_pool.csv</td><td>301796</td><td>87602574</td><td>PUBLIC</td><td>2</td></tr>\n",
       "<tr><td>87600747</td><td>JWST</td><td>image</td><td>jw02731001004_02101_00005_nrcblong</td><td>Preview-Full</td><td>S</td><td>mast:JWST/product/jw02731001004_02101_00005_nrcblong_uncal.jpg</td><td>PREVIEW</td><td>--</td><td>--</td><td>--</td><td>CALJWST</td><td>--</td><td>2731</td><td>jw02731001004_02101_00005_nrcblong_uncal.jpg</td><td>1135607</td><td>87602574</td><td>PUBLIC</td><td>1</td></tr>\n",
       "<tr><td>87600747</td><td>JWST</td><td>image</td><td>jw02731001004_02101_00005_nrcblong</td><td>Preview-Full</td><td>S</td><td>mast:JWST/product/jw02731001004_02101_00005_nrcblong_cal.jpg</td><td>PREVIEW</td><td>--</td><td>--</td><td>--</td><td>CALJWST</td><td>1.9.6</td><td>2731</td><td>jw02731001004_02101_00005_nrcblong_cal.jpg</td><td>677521</td><td>87602574</td><td>PUBLIC</td><td>2</td></tr>\n",
       "<tr><td>87600747</td><td>JWST</td><td>image</td><td>jw02731001004_02101_00005_nrcblong</td><td>Preview-Full</td><td>S</td><td>mast:JWST/product/jw02731001004_02101_00005_nrcblong_o001_crf.jpg</td><td>PREVIEW</td><td>--</td><td>--</td><td>--</td><td>CALJWST</td><td>1.9.6</td><td>2731</td><td>jw02731001004_02101_00005_nrcblong_o001_crf.jpg</td><td>677521</td><td>87602574</td><td>PUBLIC</td><td>2</td></tr>\n",
       "<tr><td>87600747</td><td>JWST</td><td>image</td><td>jw02731001004_02101_00005_nrcblong</td><td>Preview-Full</td><td>S</td><td>mast:JWST/product/jw02731001004_02101_00005_nrcblong_rate.jpg</td><td>PREVIEW</td><td>--</td><td>--</td><td>--</td><td>CALJWST</td><td>1.9.6</td><td>2731</td><td>jw02731001004_02101_00005_nrcblong_rate.jpg</td><td>677878</td><td>87602574</td><td>PUBLIC</td><td>2</td></tr>\n",
       "<tr><td>87600747</td><td>JWST</td><td>image</td><td>jw02731001004_02101_00005_nrcblong</td><td>Preview-Full</td><td>S</td><td>mast:JWST/product/jw02731001004_02101_00005_nrcblong_rateints.jpg</td><td>PREVIEW</td><td>--</td><td>--</td><td>--</td><td>CALJWST</td><td>1.9.6</td><td>2731</td><td>jw02731001004_02101_00005_nrcblong_rateints.jpg</td><td>677964</td><td>87602574</td><td>PUBLIC</td><td>2</td></tr>\n",
       "<tr><td>87600747</td><td>JWST</td><td>image</td><td>jw02731001004_02101_00005_nrcblong</td><td>Preview-Full</td><td>S</td><td>mast:JWST/product/jw02731001004_02101_00005_nrcblong_trapsfilled.jpg</td><td>PREVIEW</td><td>--</td><td>--</td><td>--</td><td>CALJWST</td><td>1.9.6</td><td>2731</td><td>jw02731001004_02101_00005_nrcblong_trapsfilled.jpg</td><td>49533</td><td>87602574</td><td>PUBLIC</td><td>2</td></tr>\n",
       "<tr><td>87600747</td><td>JWST</td><td>image</td><td>jw02731001004_02101_00005_nrcblong</td><td>exposure (L2c): 2D Calibrated data averaged over integrations</td><td>S</td><td>mast:JWST/product/jw02731001004_02101_00005_nrcblong_o001_crf.fits</td><td>SCIENCE</td><td>--</td><td>ANNNN_CRF</td><td>--</td><td>CALJWST</td><td>1.9.6</td><td>2731</td><td>jw02731001004_02101_00005_nrcblong_o001_crf.fits</td><td>117550080</td><td>87602574</td><td>PUBLIC</td><td>2</td></tr>\n",
       "<tr><td>87600747</td><td>JWST</td><td>image</td><td>jw02731001004_02101_00005_nrcblong</td><td>exposure (L2b): 2D calibrated exposure average over integrations</td><td>S</td><td>mast:JWST/product/jw02731001004_02101_00005_nrcblong_cal.fits</td><td>SCIENCE</td><td>--</td><td>CAL</td><td>--</td><td>CALJWST</td><td>1.9.6</td><td>2731</td><td>jw02731001004_02101_00005_nrcblong_cal.fits</td><td>117538560</td><td>87602574</td><td>PUBLIC</td><td>2</td></tr>\n",
       "<tr><td>87600747</td><td>JWST</td><td>image</td><td>jw02731001004_02101_00005_nrcblong</td><td>exposure/target (L2b/L3): rectified 2D image</td><td>S</td><td>mast:JWST/product/jw02731001004_02101_00005_nrcblong_i2d.fits</td><td>SCIENCE</td><td>--</td><td>I2D</td><td>--</td><td>CALJWST</td><td>1.9.6</td><td>2731</td><td>jw02731001004_02101_00005_nrcblong_i2d.fits</td><td>120228480</td><td>87602574</td><td>PUBLIC</td><td>2</td></tr>\n",
       "<tr><td>87600747</td><td>JWST</td><td>image</td><td>jw02731001004_02101_00005_nrcblong</td><td>exposure (L2a): 2D count rate averaged over integrations</td><td>S</td><td>mast:JWST/product/jw02731001004_02101_00005_nrcblong_rate.fits</td><td>SCIENCE</td><td>--</td><td>RATE</td><td>--</td><td>CALJWST</td><td>1.9.6</td><td>2731</td><td>jw02731001004_02101_00005_nrcblong_rate.fits</td><td>83949120</td><td>87602574</td><td>PUBLIC</td><td>2</td></tr>\n",
       "<tr><td>87600747</td><td>JWST</td><td>image</td><td>jw02731001004_02101_00005_nrcblong</td><td>exposure (L2a): 3D countrate per integration</td><td>S</td><td>mast:JWST/product/jw02731001004_02101_00005_nrcblong_rateints.fits</td><td>SCIENCE</td><td>--</td><td>RATEINTS</td><td>--</td><td>CALJWST</td><td>1.9.6</td><td>2731</td><td>jw02731001004_02101_00005_nrcblong_rateints.fits</td><td>83954880</td><td>87602574</td><td>PUBLIC</td><td>2</td></tr>\n",
       "<tr><td>87600747</td><td>JWST</td><td>image</td><td>jw02731001004_02101_00005_nrcblong</td><td>exposure (L1b): Uncalibrated 4D exposure data</td><td>S</td><td>mast:JWST/product/jw02731001004_02101_00005_nrcblong_uncal.fits</td><td>SCIENCE</td><td>--</td><td>UNCAL</td><td>--</td><td>CALJWST</td><td>--</td><td>2731</td><td>jw02731001004_02101_00005_nrcblong_uncal.fits</td><td>50385600</td><td>87602574</td><td>PUBLIC</td><td>1</td></tr>\n",
       "</table></div>"
      ],
      "text/plain": [
       "<Table masked=True length=5036>\n",
       " obsID   obs_collection dataproduct_type                obs_id                                          description                            ...    size   parent_obsid dataRights calib_level\n",
       "  str8        str4            str5                      str36                                              str64                               ...   int64       str8        str6       int64   \n",
       "-------- -------------- ---------------- ------------------------------------ ---------------------------------------------------------------- ... --------- ------------ ---------- -----------\n",
       "87602574           JWST            image jw02731-o001_t017_nircam_f444w-f470n                                 target   (L3) : segmentation map ... 117512640     87602574     PUBLIC           3\n",
       "87602574           JWST            image jw02731-o001_t017_nircam_f444w-f470n                       source/target (L3) : association generator ...     12245     87602574     PUBLIC           3\n",
       "87602574           JWST            image jw02731-o001_t017_nircam_f444w-f470n                            source/target (L3) : association pool ...    301796     87602574     PUBLIC           3\n",
       "87602574           JWST            image jw02731-o001_t017_nircam_f444w-f470n                                                     Preview-Full ...   2381001     87602574     PUBLIC           3\n",
       "87602574           JWST            image jw02731-o001_t017_nircam_f444w-f470n                                   target   (L3) : source catalog ...   3647727     87602574     PUBLIC           3\n",
       "87602574           JWST            image jw02731-o001_t017_nircam_f444w-f470n                     exposure/target (L2b/L3): rectified 2D image ... 940006080     87602574     PUBLIC           3\n",
       "87599244           JWST            image   jw02731001001_02101_00001_nrcalong                                      FGS1 guide star acquisition ...    406080     87602574     PUBLIC           1\n",
       "87599244           JWST            image   jw02731001001_02101_00001_nrcalong                                      FGS1 guide star acquisition ...    420480     87602574     PUBLIC           1\n",
       "87599244           JWST            image   jw02731001001_02101_00001_nrcalong                                      FGS1 guide star acquisition ...    406080     87602574     PUBLIC           1\n",
       "87599244           JWST            image   jw02731001001_02101_00001_nrcalong                                      FGS1 guide star acquisition ...    420480     87602574     PUBLIC           1\n",
       "87599244           JWST            image   jw02731001001_02101_00001_nrcalong                                      FGS1 guide star acquisition ...    406080     87602574     PUBLIC           1\n",
       "87599244           JWST            image   jw02731001001_02101_00001_nrcalong                                      FGS1 guide star acquisition ...    420480     87602574     PUBLIC           1\n",
       "87599244           JWST            image   jw02731001001_02101_00001_nrcalong                                      FGS1 guide star acquisition ...    406080     87602574     PUBLIC           1\n",
       "87599244           JWST            image   jw02731001001_02101_00001_nrcalong                                      FGS1 guide star acquisition ...    420480     87602574     PUBLIC           1\n",
       "87599244           JWST            image   jw02731001001_02101_00001_nrcalong                                      FGS1 guide star acquisition ...   1284480     87602574     PUBLIC           2\n",
       "87599244           JWST            image   jw02731001001_02101_00001_nrcalong                                      FGS1 guide star acquisition ...   1284480     87602574     PUBLIC           2\n",
       "87599244           JWST            image   jw02731001001_02101_00001_nrcalong                                      FGS1 guide star acquisition ...   1284480     87602574     PUBLIC           2\n",
       "87599244           JWST            image   jw02731001001_02101_00001_nrcalong                                      FGS1 guide star acquisition ...   1284480     87602574     PUBLIC           2\n",
       "87599244           JWST            image   jw02731001001_02101_00001_nrcalong                                      FGS2 guide star acquisition ...     34560     87602574     PUBLIC           1\n",
       "87599244           JWST            image   jw02731001001_02101_00001_nrcalong                                      FGS2 guide star acquisition ...     48960     87602574     PUBLIC           1\n",
       "87599244           JWST            image   jw02731001001_02101_00001_nrcalong                                      FGS2 guide star acquisition ...     34560     87602574     PUBLIC           1\n",
       "87599244           JWST            image   jw02731001001_02101_00001_nrcalong                                      FGS2 guide star acquisition ...     48960     87602574     PUBLIC           1\n",
       "     ...            ...              ...                                  ...                                                              ... ...       ...          ...        ...         ...\n",
       "87600747           JWST            image   jw02731001004_02101_00005_nrcblong                                          FGS guide star tracking ...   2459520     87602574     PUBLIC           2\n",
       "87600747           JWST            image   jw02731001004_02101_00005_nrcblong                                          FGS guide star tracking ...   2459520     87602574     PUBLIC           2\n",
       "87600747           JWST            image   jw02731001004_02101_00005_nrcblong                                          FGS guide star tracking ...   2459520     87602574     PUBLIC           2\n",
       "87600747           JWST            image   jw02731001004_02101_00005_nrcblong                                          FGS guide star tracking ...   2465280     87602574     PUBLIC           2\n",
       "87600747           JWST            image   jw02731001004_02101_00005_nrcblong                                          FGS guide star tracking ...   2459520     87602574     PUBLIC           2\n",
       "87600747           JWST            image   jw02731001004_02101_00005_nrcblong                                          FGS guide star tracking ...   2459520     87602574     PUBLIC           2\n",
       "87600747           JWST            image   jw02731001004_02101_00005_nrcblong                                          FGS guide star tracking ...   2465280     87602574     PUBLIC           2\n",
       "87600747           JWST            image   jw02731001004_02101_00005_nrcblong                                          FGS guide star tracking ...   2459520     87602574     PUBLIC           2\n",
       "87600747           JWST            image   jw02731001004_02101_00005_nrcblong              exposure (L2a): charge trap product for persistence ...  50365440     87602574     PUBLIC           2\n",
       "87600747           JWST            image   jw02731001004_02101_00005_nrcblong                       source/target (L3) : association generator ...      1796     87602574     PUBLIC           2\n",
       "87600747           JWST            image   jw02731001004_02101_00005_nrcblong                            source/target (L3) : association pool ...    301796     87602574     PUBLIC           2\n",
       "87600747           JWST            image   jw02731001004_02101_00005_nrcblong                                                     Preview-Full ...   1135607     87602574     PUBLIC           1\n",
       "87600747           JWST            image   jw02731001004_02101_00005_nrcblong                                                     Preview-Full ...    677521     87602574     PUBLIC           2\n",
       "87600747           JWST            image   jw02731001004_02101_00005_nrcblong                                                     Preview-Full ...    677521     87602574     PUBLIC           2\n",
       "87600747           JWST            image   jw02731001004_02101_00005_nrcblong                                                     Preview-Full ...    677878     87602574     PUBLIC           2\n",
       "87600747           JWST            image   jw02731001004_02101_00005_nrcblong                                                     Preview-Full ...    677964     87602574     PUBLIC           2\n",
       "87600747           JWST            image   jw02731001004_02101_00005_nrcblong                                                     Preview-Full ...     49533     87602574     PUBLIC           2\n",
       "87600747           JWST            image   jw02731001004_02101_00005_nrcblong    exposure (L2c): 2D Calibrated data averaged over integrations ... 117550080     87602574     PUBLIC           2\n",
       "87600747           JWST            image   jw02731001004_02101_00005_nrcblong exposure (L2b): 2D calibrated exposure average over integrations ... 117538560     87602574     PUBLIC           2\n",
       "87600747           JWST            image   jw02731001004_02101_00005_nrcblong                     exposure/target (L2b/L3): rectified 2D image ... 120228480     87602574     PUBLIC           2\n",
       "87600747           JWST            image   jw02731001004_02101_00005_nrcblong         exposure (L2a): 2D count rate averaged over integrations ...  83949120     87602574     PUBLIC           2\n",
       "87600747           JWST            image   jw02731001004_02101_00005_nrcblong                     exposure (L2a): 3D countrate per integration ...  83954880     87602574     PUBLIC           2\n",
       "87600747           JWST            image   jw02731001004_02101_00005_nrcblong                    exposure (L1b): Uncalibrated 4D exposure data ...  50385600     87602574     PUBLIC           1"
      ]
     },
     "execution_count": 2,
     "metadata": {},
     "output_type": "execute_result"
    }
   ],
   "source": [
    "# 用get_product_list()取得清單中的某項觀測的資料檔案列表\n",
    "product_list = Observations.get_product_list(obs_table[-1])\n",
    "product_list"
   ]
  },
  {
   "cell_type": "code",
   "execution_count": 3,
   "id": "8b9b6ddb",
   "metadata": {
    "tags": []
   },
   "outputs": [
    {
     "name": "stdout",
     "output_type": "stream",
     "text": [
      "INFO: Found cached file ./mastDownload/JWST/jw02731-o001_t017_nircam_f444w-f470n/jw02731-o001_t017_nircam_f444w-f470n_i2d.fits with expected size 940006080. [astroquery.query]\n"
     ]
    },
    {
     "data": {
      "text/html": [
       "<div><i>Table length=1</i>\n",
       "<table id=\"table140228469640736\" class=\"table-striped table-bordered table-condensed\">\n",
       "<thead><tr><th>Local Path</th><th>Status</th><th>Message</th><th>URL</th></tr></thead>\n",
       "<thead><tr><th>str102</th><th>str8</th><th>object</th><th>object</th></tr></thead>\n",
       "<tr><td>./mastDownload/JWST/jw02731-o001_t017_nircam_f444w-f470n/jw02731-o001_t017_nircam_f444w-f470n_i2d.fits</td><td>COMPLETE</td><td>None</td><td>None</td></tr>\n",
       "</table></div>"
      ],
      "text/plain": [
       "<Table length=1>\n",
       "                                              Local Path                                                Status  Message  URL  \n",
       "                                                str102                                                   str8    object object\n",
       "------------------------------------------------------------------------------------------------------ -------- ------- ------\n",
       "./mastDownload/JWST/jw02731-o001_t017_nircam_f444w-f470n/jw02731-o001_t017_nircam_f444w-f470n_i2d.fits COMPLETE    None   None"
      ]
     },
     "execution_count": 3,
     "metadata": {},
     "output_type": "execute_result"
    }
   ],
   "source": [
    "# 用download_products()下載資料檔案列表中的檔案\n",
    "downloaded_products = Observations.download_products(product_list[5], extension='fits')\n",
    "downloaded_products"
   ]
  },
  {
   "cell_type": "code",
   "execution_count": 4,
   "id": "ca55618e-d664-4344-9c58-7080cce80319",
   "metadata": {
    "tags": []
   },
   "outputs": [
    {
     "name": "stdout",
     "output_type": "stream",
     "text": [
      "Filename: ./mastDownload/JWST/jw02731-o001_t017_nircam_f444w-f470n/jw02731-o001_t017_nircam_f444w-f470n_i2d.fits\n",
      "No.    Name      Ver    Type      Cards   Dimensions   Format\n",
      "  0  PRIMARY       1 PrimaryHDU     374   ()      \n",
      "  1  SCI           1 ImageHDU        74   (7047, 4167)   float32   \n",
      "  2  ERR           1 ImageHDU        10   (7047, 4167)   float32   \n",
      "  3  CON           1 ImageHDU        10   (7047, 4167, 2)   int32   \n",
      "  4  WHT           1 ImageHDU         9   (7047, 4167)   float32   \n",
      "  5  VAR_POISSON    1 ImageHDU         9   (7047, 4167)   float32   \n",
      "  6  VAR_RNOISE    1 ImageHDU         9   (7047, 4167)   float32   \n",
      "  7  VAR_FLAT      1 ImageHDU         9   (7047, 4167)   float32   \n",
      "  8  HDRTAB        1 BinTableHDU    820   40R x 405C   [23A, 5A, 3A, 48A, 7A, 13A, 7A, 5A, 7A, 10A, 4A, L, D, D, D, D, 32A, 50A, 32A, 21A, 3A, 3A, D, D, 10A, 12A, 23A, 23A, 26A, 11A, 5A, 3A, 3A, 2A, 1A, 2A, 1A, L, 14A, 23A, 2A, 26A, 20A, 27A, 10A, K, L, L, L, L, 8A, 8A, 5A, D, D, D, D, D, D, 27A, D, D, D, 6A, 8A, 1A, 4A, 5A, 5A, L, D, D, D, D, D, D, D, D, D, D, D, D, 4A, D, D, D, D, D, D, D, D, D, K, 5A, 9A, D, D, D, D, D, D, D, D, D, 8A, D, D, K, K, D, D, K, K, D, D, K, K, K, K, K, D, D, D, D, D, D, D, D, K, K, L, L, K, K, D, D, D, D, D, D, D, 4A, K, K, K, K, K, K, D, D, D, D, 7A, 6A, K, K, D, K, D, D, D, D, D, K, 8A, D, D, D, D, D, D, D, D, D, D, 7A, 10A, D, D, D, D, D, D, D, D, D, D, D, D, D, 10A, 11A, D, D, D, D, D, D, D, D, D, D, D, D, K, K, D, 4A, K, K, K, D, 4A, K, K, K, D, 4A, K, D, D, K, 27A, 27A, 10A, D, D, D, D, D, D, D, 9A, 27A, D, D, D, D, D, D, D, 8A, 14A, 33A, D, D, 3A, 3A, D, 33A, 3A, 39A, D, D, 41A, 33A, 3A, 3A, 3A, 3A, 3A, D, D, 33A, 3A, 3A, 3A, D, D, 38A, 33A, 3A, 3A, D, 35A, 35A, D, 38A, D, 3A, D, D, D, D, 39A, D, D, D, 3A, D, 38A, D, 40A, 37A, D, D, D, 3A, D, D, D, D, D, 8A, D, D, D, D, D, 8A, 8A, D, D, D, D, D, 8A, D, 7A, 7A, D, D, 7A, 8A, D, D, 8A, D, D, D, 8A, D, 8A, 8A, 8A, 8A, D, D, D, D, 8A, 8A, D, D, D, D, 8A, D, 8A, D, D, D, 5A, D, L, 6A, D, D, D, D, 4A, D, D, D, K, D, D, D, D, D, D, 12A, 12A, D, 3A, 3A, D, D, D, D, D, D, D, D, D, D, D, D, D, D, D, D, D, 125A, D, D, D, D, D, D, K, D, D, D, D]   \n",
      "  9  ASDF          1 BinTableHDU     11   1R x 1C   [36947B]   \n"
     ]
    }
   ],
   "source": [
    "from astropy.io import fits\n",
    "\n",
    "# 用astropy讀取下載的檔案，並查看資訊\n",
    "filename = downloaded_products['Local Path'][0]\n",
    "hdu_list = fits.open(filename)\n",
    "hdu_list.info()"
   ]
  },
  {
   "cell_type": "markdown",
   "id": "1273214b-1fec-4b78-baf0-0dcfc2ece115",
   "metadata": {
    "tags": []
   },
   "source": [
    "## 3. 如何用jdaviz視覺化探索韋伯太空望遠鏡的觀測資料？"
   ]
  },
  {
   "cell_type": "code",
   "execution_count": 5,
   "id": "f4a813ef-181c-4230-830d-38703756ce62",
   "metadata": {
    "tags": []
   },
   "outputs": [
    {
     "name": "stderr",
     "output_type": "stream",
     "text": [
      "/home/yhsu/miniconda3/envs/jwst/lib/python3.10/site-packages/glue/viewers/common/viewer.py:188: UserWarning: Add large data set?\n",
      "  warnings.warn(message)\n"
     ]
    },
    {
     "data": {
      "application/vnd.jupyter.widget-view+json": {
       "model_id": "dd7b89dc1cd2448bbe53f43bad2ac8c4",
       "version_major": 2,
       "version_minor": 0
      },
      "text/plain": [
       "Application(config='imviz', events=['call_viewer_method', 'close_snackbar_message', 'data_item_remove', 'data_…"
      ]
     },
     "metadata": {},
     "output_type": "display_data"
    }
   ],
   "source": [
    "from jdaviz import Imviz\n",
    "\n",
    "filename = downloaded_products['Local Path'][0]\n",
    "imviz = Imviz()\n",
    "imviz.load_data(filename)\n",
    "imviz.show()"
   ]
  }
 ],
 "metadata": {
  "kernelspec": {
   "display_name": "Python 3 (ipykernel)",
   "language": "python",
   "name": "python3"
  },
  "language_info": {
   "codemirror_mode": {
    "name": "ipython",
    "version": 3
   },
   "file_extension": ".py",
   "mimetype": "text/x-python",
   "name": "python",
   "nbconvert_exporter": "python",
   "pygments_lexer": "ipython3",
   "version": "3.10.10"
  }
 },
 "nbformat": 4,
 "nbformat_minor": 5
}
